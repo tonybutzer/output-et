{
 "cells": [
  {
   "cell_type": "markdown",
   "metadata": {},
   "source": [
    "# Goal get 1.1 Terabytes of data up to the cloud"
   ]
  },
  {
   "cell_type": "markdown",
   "metadata": {},
   "source": [
    "# Steps \n",
    "\n",
    "1. write a bash script to recursively tar zip the years\n",
    "2. craft a 3 way scp command to push data to the s3 bucket via \n"
   ]
  },
  {
   "cell_type": "markdown",
   "metadata": {},
   "source": [
    "# tarballer.sh\n",
    "```\n",
    "#! /bin/bash\n",
    "\n",
    "path=/mnt/Data/Temperature/NorthAmerica/Daymet_Gridmet_mosaic/tavg\n",
    "outdir=/data/temperature/\n",
    "\n",
    "for i in ` find $path -mindepth 1 -type d `; do {\n",
    "        echo $i;\n",
    "        newn=`echo $i | sed -e 's/\\//_/g'`\n",
    "        fulln=`echo $outdir$newn.tgz`\n",
    "        echo $fulln\n",
    "        tar cvzf $fulln $i\n",
    "} done\n",
    "\n",
    "```"
   ]
  },
  {
   "cell_type": "markdown",
   "metadata": {},
   "source": [
    "# three way scp\n",
    "\n",
    "scp -3 -i ~/.ssh/CHS-LSDSDPAS-butzer.pem llsrlscd04:/data3/butzer/temperature/*.tgz ubuntu@10.12.69.21:/opt/et_data/test\n",
    "\n",
    "\n",
    "scp -3 -i ~/.ssh/CHS-LSDSDPAS-butzer.pem ubuntu@10.12.68.246:./tarballs/*.tgz llsrlscd04:/data3/butzer"
   ]
  },
  {
   "cell_type": "code",
   "execution_count": null,
   "metadata": {},
   "outputs": [],
   "source": []
  }
 ],
 "metadata": {
  "kernelspec": {
   "display_name": "Python 3",
   "language": "python",
   "name": "python3"
  },
  "language_info": {
   "codemirror_mode": {
    "name": "ipython",
    "version": 3
   },
   "file_extension": ".py",
   "mimetype": "text/x-python",
   "name": "python",
   "nbconvert_exporter": "python",
   "pygments_lexer": "ipython3",
   "version": "3.7.3"
  }
 },
 "nbformat": 4,
 "nbformat_minor": 4
}
