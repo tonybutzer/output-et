{
 "cells": [
  {
   "cell_type": "markdown",
   "metadata": {},
   "source": [
    "# 00-overview\n",
    "\n",
    "## Goals\n",
    "\n",
    "1. setup rclone in a container and test on butzer-2 - cloud sanity\n",
    "\n",
    "\n",
    "## Why document this here instead of kanban\n",
    "\n",
    "because this goes in github essentially leaving bread crumbs"
   ]
  },
  {
   "cell_type": "markdown",
   "metadata": {},
   "source": [
    "# hurdles\n",
    "\n",
    "## no space left on butz2 \n",
    "\n",
    "- bummer - do this work on tljh and clean up disk space"
   ]
  },
  {
   "cell_type": "markdown",
   "metadata": {},
   "source": [
    "# Steps\n",
    "\n",
    "1. **+** logon butz2\n",
    "2. **+** git clone cloud sanity\n",
    "3. **done** create rclone-google-aws dir and then what?\n",
    "4. **_** look at rcloner on llsrlscd04 as a reference and etops docker containers\n",
    "- Dockerfile first \n",
    "5. **done** allow ssh git from this repo "
   ]
  },
  {
   "cell_type": "markdown",
   "metadata": {},
   "source": [
    "# Education - prior art - study - References\n",
    "\n"
   ]
  },
  {
   "cell_type": "markdown",
   "metadata": {},
   "source": [
    "# Rclone steps\n"
   ]
  },
  {
   "cell_type": "code",
   "execution_count": null,
   "metadata": {},
   "outputs": [],
   "source": []
  }
 ],
 "metadata": {
  "kernelspec": {
   "display_name": "Python 3",
   "language": "python",
   "name": "python3"
  },
  "language_info": {
   "codemirror_mode": {
    "name": "ipython",
    "version": 3
   },
   "file_extension": ".py",
   "mimetype": "text/x-python",
   "name": "python",
   "nbconvert_exporter": "python",
   "pygments_lexer": "ipython3",
   "version": "3.7.3"
  }
 },
 "nbformat": 4,
 "nbformat_minor": 4
}
