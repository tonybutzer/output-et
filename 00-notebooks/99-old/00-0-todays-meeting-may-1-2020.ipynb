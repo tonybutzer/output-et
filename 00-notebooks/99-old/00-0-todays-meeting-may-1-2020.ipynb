{
 "cells": [
  {
   "cell_type": "markdown",
   "metadata": {},
   "source": [
    "I plan to show some cloud tools to the ET team – Today at 1 central.\n",
    " \n",
    "Things like how to edit with pycharm and run in the cloud\n",
    " \n",
    "The terminal and tmux\n",
    " \n",
    "Logging in with putty from windows\n",
    " \n",
    "Running 11 threads to max out the use of an AWS computer [EC2 instance]\n",
    "Starting an existing EC2 dormant computer\n",
    " \n",
    "Intro to the ET Model in jupyter and the path to pure python\n",
    " \n",
    "Jupyter training approaches.\n",
    " \n",
    "Why cogs?\n",
    " \n",
    "And wherever the questions might lead.\n"
   ]
  },
  {
   "cell_type": "markdown",
   "metadata": {},
   "source": [
    "# The littleist jupyter hub is great for this - \n",
    "\n",
    "### sort of a miniPangeo"
   ]
  },
  {
   "cell_type": "code",
   "execution_count": 1,
   "metadata": {},
   "outputs": [
    {
     "name": "stdout",
     "output_type": "stream",
     "text": [
      "00-0-todays-meeting-may-1-2020.ipynb  00-jupyter-intellisense.ipynb  files\r\n"
     ]
    }
   ],
   "source": [
    "! ls"
   ]
  },
  {
   "cell_type": "code",
   "execution_count": 2,
   "metadata": {},
   "outputs": [],
   "source": [
    "! mkdir -p tony"
   ]
  },
  {
   "cell_type": "code",
   "execution_count": 3,
   "metadata": {},
   "outputs": [
    {
     "name": "stdout",
     "output_type": "stream",
     "text": [
      "Cloning into 'cloud-veg-et'...\n",
      "remote: Enumerating objects: 84, done.\u001b[K\n",
      "remote: Counting objects: 100% (84/84), done.\u001b[K\n",
      "remote: Compressing objects: 100% (55/55), done.\u001b[K\n",
      "remote: Total 84 (delta 36), reused 61 (delta 24), pack-reused 0\u001b[K\n",
      "Unpacking objects: 100% (84/84), done.\n"
     ]
    }
   ],
   "source": [
    "! (cd tony; git clone https://github.com/skagone/cloud-veg-et.git)"
   ]
  },
  {
   "cell_type": "code",
   "execution_count": 4,
   "metadata": {},
   "outputs": [
    {
     "name": "stdout",
     "output_type": "stream",
     "text": [
      "                           PRE NDVI_filled/\r\n",
      "                           PRE compressed/\r\n",
      "                           PRE level-1/\r\n",
      "2020-04-20 18:51:45         62 Readme-bucket.md\r\n"
     ]
    }
   ],
   "source": [
    "! aws s3 ls dev-et-data/"
   ]
  },
  {
   "cell_type": "code",
   "execution_count": 6,
   "metadata": {},
   "outputs": [
    {
     "name": "stdout",
     "output_type": "stream",
     "text": [
      "2020-04-26 16:25:55   83 Bytes NDVI_filled/med2003_2017/med366.250_m_NDVI.tfw\r\n",
      "2020-04-26 16:25:55    2.7 GiB NDVI_filled/med2003_2017/med366.250_m_NDVI.tif\r\n",
      "2020-04-26 16:25:58    2.1 KiB NDVI_filled/med2003_2017/med366.250_m_NDVI.tif.aux.xml\r\n",
      "\r\n",
      "Total Objects: 20883\r\n",
      "   Total Size: 18.2 TiB\r\n"
     ]
    }
   ],
   "source": [
    "! aws s3 ls dev-et-data/NDVI_filled/ --recursive --sum --hum | tail -6"
   ]
  },
  {
   "cell_type": "code",
   "execution_count": 7,
   "metadata": {},
   "outputs": [
    {
     "name": "stdout",
     "output_type": "stream",
     "text": [
      "                           PRE 2001/\r\n",
      "                           PRE 2002/\r\n",
      "                           PRE 2003/\r\n",
      "                           PRE 2004/\r\n",
      "                           PRE 2005/\r\n",
      "                           PRE 2006/\r\n",
      "                           PRE 2007/\r\n",
      "                           PRE 2008/\r\n",
      "                           PRE 2009/\r\n",
      "                           PRE 2010/\r\n",
      "                           PRE 2011/\r\n",
      "                           PRE 2012/\r\n",
      "                           PRE 2013/\r\n"
     ]
    }
   ],
   "source": [
    "! aws s3 ls dev-et-data/compressed/NDVI_filled/"
   ]
  },
  {
   "cell_type": "code",
   "execution_count": 9,
   "metadata": {},
   "outputs": [
    {
     "name": "stdout",
     "output_type": "stream",
     "text": [
      "2020-05-01 04:29:52    2.7 KiB compressed/NDVI_filled/2013/2013366.250_m_NDVI.tif.aux.xml\r\n",
      "\r\n",
      "Total Objects: 9514\r\n",
      "   Total Size: 5.1 TiB\r\n"
     ]
    }
   ],
   "source": [
    "! aws s3 ls dev-et-data/compressed/NDVI_filled/ --recur --sum --hum | tail -4"
   ]
  },
  {
   "cell_type": "markdown",
   "metadata": {},
   "source": [
    "# Next The Model by Steffi and Gabe"
   ]
  },
  {
   "cell_type": "markdown",
   "metadata": {},
   "source": [
    "# PYCHARM Community Edition - Maybe Pro someday\n",
    "\n",
    "1. Not every one loves VIM like me\n",
    "2. Other IDEs\n",
    "    - atom\n",
    "    - sublime\n",
    "    - visual studio code\n",
    "3. Things that can sort of pretend to be an IDE\n",
    "    - Jupyter with the right magic and plugins\n",
    "    - Vim with plugins and maybe tmux\n",
    "    - linux discreet tools\n",
    "    \n",
    "\n",
    "The scientists are not ready to quickly abandon their bread and butter tools of comfort - rightfully SO!\n",
    "\n",
    "FileZilla - helps with moving data from the bucket to the desktop etc \n",
    "\n",
    "## ARC\n",
    "\n",
    "## pycharm"
   ]
  },
  {
   "cell_type": "markdown",
   "metadata": {},
   "source": [
    "# Next scaling with threads and queues."
   ]
  },
  {
   "cell_type": "code",
   "execution_count": null,
   "metadata": {},
   "outputs": [],
   "source": [
    "%%bash # this is rwo 2 of 10\n",
    "\n",
    "python3 run_gabe_veget_main.py sq_40N_150W & ..... or tha\n",
    "python3 run_gabe_veget_main.py sq_40N_160W &\n",
    "\n"
   ]
  }
 ],
 "metadata": {
  "kernelspec": {
   "display_name": "Python 3",
   "language": "python",
   "name": "python3"
  },
  "language_info": {
   "codemirror_mode": {
    "name": "ipython",
    "version": 3
   },
   "file_extension": ".py",
   "mimetype": "text/x-python",
   "name": "python",
   "nbconvert_exporter": "python",
   "pygments_lexer": "ipython3",
   "version": "3.7.3"
  }
 },
 "nbformat": 4,
 "nbformat_minor": 4
}
