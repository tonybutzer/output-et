{
 "cells": [
  {
   "cell_type": "code",
   "execution_count": 1,
   "metadata": {},
   "outputs": [],
   "source": [
    "#! pip install --user xlrd"
   ]
  },
  {
   "cell_type": "code",
   "execution_count": 2,
   "metadata": {},
   "outputs": [],
   "source": [
    "import pandas as pd"
   ]
  },
  {
   "cell_type": "code",
   "execution_count": 3,
   "metadata": {},
   "outputs": [],
   "source": [
    "filename = 'MACA inputs.xlsx'\n",
    "df = pd.read_excel(filename)"
   ]
  },
  {
   "cell_type": "code",
   "execution_count": 4,
   "metadata": {},
   "outputs": [
    {
     "name": "stdout",
     "output_type": "stream",
     "text": [
      " 00-organize-maca-inputs.ipynb\t'MACA inputs.xlsx'\r\n"
     ]
    }
   ],
   "source": [
    "!ls"
   ]
  },
  {
   "cell_type": "code",
   "execution_count": 5,
   "metadata": {},
   "outputs": [
    {
     "data": {
      "text/html": [
       "<div>\n",
       "<style scoped>\n",
       "    .dataframe tbody tr th:only-of-type {\n",
       "        vertical-align: middle;\n",
       "    }\n",
       "\n",
       "    .dataframe tbody tr th {\n",
       "        vertical-align: top;\n",
       "    }\n",
       "\n",
       "    .dataframe thead th {\n",
       "        text-align: right;\n",
       "    }\n",
       "</style>\n",
       "<table border=\"1\" class=\"dataframe\">\n",
       "  <thead>\n",
       "    <tr style=\"text-align: right;\">\n",
       "      <th></th>\n",
       "      <th>Unnamed: 0</th>\n",
       "      <th>Unnamed: 1</th>\n",
       "      <th>Unnamed: 2</th>\n",
       "      <th>Unnamed: 3</th>\n",
       "    </tr>\n",
       "  </thead>\n",
       "  <tbody>\n",
       "    <tr>\n",
       "      <th>0</th>\n",
       "      <td>NaN</td>\n",
       "      <td>NaN</td>\n",
       "      <td>MACAv2-LIVNEH</td>\n",
       "      <td>MACAv2-METDATA</td>\n",
       "    </tr>\n",
       "    <tr>\n",
       "      <th>1</th>\n",
       "      <td>NaN</td>\n",
       "      <td>Time period</td>\n",
       "      <td>2020-2100</td>\n",
       "      <td>2020-2100</td>\n",
       "    </tr>\n",
       "    <tr>\n",
       "      <th>2</th>\n",
       "      <td>NaN</td>\n",
       "      <td>tasmax - Maximum daily temperature near surface</td>\n",
       "      <td>X</td>\n",
       "      <td>X</td>\n",
       "    </tr>\n",
       "    <tr>\n",
       "      <th>3</th>\n",
       "      <td>NaN</td>\n",
       "      <td>tasmin - Minimum daily temperature near surface</td>\n",
       "      <td>X</td>\n",
       "      <td>X</td>\n",
       "    </tr>\n",
       "    <tr>\n",
       "      <th>4</th>\n",
       "      <td>NaN</td>\n",
       "      <td>rhsmax - Maximum daily relative humidity near ...</td>\n",
       "      <td>NaN</td>\n",
       "      <td>X</td>\n",
       "    </tr>\n",
       "    <tr>\n",
       "      <th>5</th>\n",
       "      <td>NaN</td>\n",
       "      <td>rhsmin - Minimum daily relative humdity near s...</td>\n",
       "      <td>NaN</td>\n",
       "      <td>X</td>\n",
       "    </tr>\n",
       "    <tr>\n",
       "      <th>6</th>\n",
       "      <td>NaN</td>\n",
       "      <td>huss - Average daily specific humidity near su...</td>\n",
       "      <td>X</td>\n",
       "      <td>X</td>\n",
       "    </tr>\n",
       "    <tr>\n",
       "      <th>7</th>\n",
       "      <td>NaN</td>\n",
       "      <td>pr - Average daily precipitation amount at sur...</td>\n",
       "      <td>X</td>\n",
       "      <td>X</td>\n",
       "    </tr>\n",
       "    <tr>\n",
       "      <th>8</th>\n",
       "      <td>NaN</td>\n",
       "      <td>rsds- Average daily downward shortwave radiati...</td>\n",
       "      <td>X</td>\n",
       "      <td>X</td>\n",
       "    </tr>\n",
       "    <tr>\n",
       "      <th>9</th>\n",
       "      <td>NaN</td>\n",
       "      <td>was - Average daily wind speed near surface</td>\n",
       "      <td>X</td>\n",
       "      <td>NaN</td>\n",
       "    </tr>\n",
       "    <tr>\n",
       "      <th>10</th>\n",
       "      <td>NaN</td>\n",
       "      <td>uas - Average daily eastward component of wind...</td>\n",
       "      <td>NaN</td>\n",
       "      <td>X</td>\n",
       "    </tr>\n",
       "    <tr>\n",
       "      <th>11</th>\n",
       "      <td>NaN</td>\n",
       "      <td>vas - Average daily northward component of win...</td>\n",
       "      <td>NaN</td>\n",
       "      <td>X</td>\n",
       "    </tr>\n",
       "  </tbody>\n",
       "</table>\n",
       "</div>"
      ],
      "text/plain": [
       "    Unnamed: 0                                         Unnamed: 1  \\\n",
       "0          NaN                                                NaN   \n",
       "1          NaN                                        Time period   \n",
       "2          NaN    tasmax - Maximum daily temperature near surface   \n",
       "3          NaN    tasmin - Minimum daily temperature near surface   \n",
       "4          NaN  rhsmax - Maximum daily relative humidity near ...   \n",
       "5          NaN  rhsmin - Minimum daily relative humdity near s...   \n",
       "6          NaN  huss - Average daily specific humidity near su...   \n",
       "7          NaN  pr - Average daily precipitation amount at sur...   \n",
       "8          NaN  rsds- Average daily downward shortwave radiati...   \n",
       "9          NaN        was - Average daily wind speed near surface   \n",
       "10         NaN  uas - Average daily eastward component of wind...   \n",
       "11         NaN  vas - Average daily northward component of win...   \n",
       "\n",
       "       Unnamed: 2      Unnamed: 3  \n",
       "0   MACAv2-LIVNEH  MACAv2-METDATA  \n",
       "1       2020-2100       2020-2100  \n",
       "2               X               X  \n",
       "3               X               X  \n",
       "4             NaN               X  \n",
       "5             NaN               X  \n",
       "6               X               X  \n",
       "7               X               X  \n",
       "8               X               X  \n",
       "9               X             NaN  \n",
       "10            NaN               X  \n",
       "11            NaN               X  "
      ]
     },
     "execution_count": 5,
     "metadata": {},
     "output_type": "execute_result"
    }
   ],
   "source": [
    "df"
   ]
  },
  {
   "cell_type": "code",
   "execution_count": 19,
   "metadata": {},
   "outputs": [
    {
     "name": "stdout",
     "output_type": "stream",
     "text": [
      "nan\n",
      "Time period\n",
      "tasmax - Maximum daily temperature near surface\n",
      "tasmin - Minimum daily temperature near surface\n",
      "rhsmax - Maximum daily relative humidity near surface\n",
      "rhsmin - Minimum daily relative humdity near surface\n",
      "huss - Average daily specific humidity near surface\n",
      "pr - Average daily precipitation amount at surface\n",
      "rsds- Average daily downward shortwave radiation at surface\n",
      "was - Average daily wind speed near surface\n",
      "uas - Average daily eastward component of wind near surface\n",
      "vas - Average daily northward component of wind near surface\n"
     ]
    }
   ],
   "source": [
    "observation_list=[]\n",
    "for index,item in df.iterrows():\n",
    "    print (item['Unnamed: 1'])\n",
    "    #print(dir(item))\n",
    "    if (index>1):\n",
    "        observation_list.append(item['Unnamed: 1'])"
   ]
  },
  {
   "cell_type": "code",
   "execution_count": 20,
   "metadata": {},
   "outputs": [
    {
     "data": {
      "text/plain": [
       "['tasmax - Maximum daily temperature near surface',\n",
       " 'tasmin - Minimum daily temperature near surface',\n",
       " 'rhsmax - Maximum daily relative humidity near surface',\n",
       " 'rhsmin - Minimum daily relative humdity near surface',\n",
       " 'huss - Average daily specific humidity near surface',\n",
       " 'pr - Average daily precipitation amount at surface',\n",
       " 'rsds- Average daily downward shortwave radiation at surface',\n",
       " 'was - Average daily wind speed near surface',\n",
       " 'uas - Average daily eastward component of wind near surface',\n",
       " 'vas - Average daily northward component of wind near surface']"
      ]
     },
     "execution_count": 20,
     "metadata": {},
     "output_type": "execute_result"
    }
   ],
   "source": [
    "observation_list"
   ]
  },
  {
   "cell_type": "markdown",
   "metadata": {},
   "source": [
    "# MACA\n",
    "\n",
    "The MACA method is a statistical downscaling method for removing biases from global climate model outputs\n",
    "\n",
    "We have used MACA to downscale the model output from 20 global climate models (GCMs) of the Coupled Model Inter-Comparison Project 5 (CMIP5) for the:\n",
    "- historical GCM forcings (1950-2005) and the \n",
    "- future Representative Concentration Pathways (RCPs) RCP 4.5 and RCP8.5 scenarios (2006-2100) \n",
    "- from the native resolution of the GCMS to either 4-km or ~6-km.\n",
    "\n",
    "The MACA dataset is unique in that it downscales a large set of variables\n",
    "- (temperature, precipitation, humidity, wind, radiation) \n",
    "making it ideal for different kinds of modeling of future climate \n",
    "- (i.e. hydrology, ecology, **vegetation**, fire, wind). "
   ]
  },
  {
   "cell_type": "markdown",
   "metadata": {},
   "source": [
    "# MACA climate.northwestknowledge.net\n",
    "\n",
    "https://climate.northwestknowledge.net/MACA/\n",
    "\n",
    "- Visualization Tools\n",
    "\n",
    "- Data Download Tools"
   ]
  },
  {
   "cell_type": "markdown",
   "metadata": {},
   "source": [
    "# tool\n",
    "\n",
    "https://climate.northwestknowledge.net/MACA/data_portal.php"
   ]
  },
  {
   "cell_type": "code",
   "execution_count": null,
   "metadata": {},
   "outputs": [],
   "source": []
  }
 ],
 "metadata": {
  "kernelspec": {
   "display_name": "Python 3",
   "language": "python",
   "name": "python3"
  },
  "language_info": {
   "codemirror_mode": {
    "name": "ipython",
    "version": 3
   },
   "file_extension": ".py",
   "mimetype": "text/x-python",
   "name": "python",
   "nbconvert_exporter": "python",
   "pygments_lexer": "ipython3",
   "version": "3.7.3"
  }
 },
 "nbformat": 4,
 "nbformat_minor": 4
}
