{
 "cells": [
  {
   "cell_type": "code",
   "execution_count": 1,
   "metadata": {},
   "outputs": [
    {
     "name": "stdout",
     "output_type": "stream",
     "text": [
      "2227540.csv\r\n"
     ]
    }
   ],
   "source": [
    "!ls *.csv"
   ]
  },
  {
   "cell_type": "code",
   "execution_count": 2,
   "metadata": {},
   "outputs": [
    {
     "name": "stdout",
     "output_type": "stream",
     "text": [
      "STATION,STATION_NAME,ELEVATION,LATITUDE,LONGITUDE,DATE,HPCP,Measurement Flag,Quality Flag\r\n",
      "COOP:396937,RAPID CITY REGIONAL AIRPORT SD US,963.8,44.05,-103.06667,19720101 01:00,0.00,g, \r\n",
      "COOP:396937,RAPID CITY REGIONAL AIRPORT SD US,963.8,44.05,-103.06667,19720102 11:00,0.01, , \r\n",
      "COOP:396937,RAPID CITY REGIONAL AIRPORT SD US,963.8,44.05,-103.06667,19720109 20:00,0.01, , \r\n",
      "COOP:396937,RAPID CITY REGIONAL AIRPORT SD US,963.8,44.05,-103.06667,19720110 03:00,0.01, , \r\n",
      "COOP:396937,RAPID CITY REGIONAL AIRPORT SD US,963.8,44.05,-103.06667,19720112 01:00,0.03, , \r\n",
      "COOP:396937,RAPID CITY REGIONAL AIRPORT SD US,963.8,44.05,-103.06667,19720112 11:00,0.01, , \r\n",
      "COOP:396937,RAPID CITY REGIONAL AIRPORT SD US,963.8,44.05,-103.06667,19720115 09:00,0.01, , \r\n",
      "COOP:396937,RAPID CITY REGIONAL AIRPORT SD US,963.8,44.05,-103.06667,19720120 09:00,0.01, , \r\n",
      "COOP:396937,RAPID CITY REGIONAL AIRPORT SD US,963.8,44.05,-103.06667,19720123 14:00,0.01, , \r\n"
     ]
    }
   ],
   "source": [
    "!head 2227540.csv"
   ]
  },
  {
   "cell_type": "code",
   "execution_count": 3,
   "metadata": {},
   "outputs": [],
   "source": [
    "import pandas\n",
    "df = pandas.read_csv('2227540.csv')"
   ]
  },
  {
   "cell_type": "code",
   "execution_count": 4,
   "metadata": {},
   "outputs": [
    {
     "data": {
      "text/plain": [
       "<bound method NDFrame.head of          STATION                       STATION_NAME  ELEVATION  LATITUDE  \\\n",
       "0    COOP:396937  RAPID CITY REGIONAL AIRPORT SD US      963.8     44.05   \n",
       "1    COOP:396937  RAPID CITY REGIONAL AIRPORT SD US      963.8     44.05   \n",
       "2    COOP:396937  RAPID CITY REGIONAL AIRPORT SD US      963.8     44.05   \n",
       "3    COOP:396937  RAPID CITY REGIONAL AIRPORT SD US      963.8     44.05   \n",
       "4    COOP:396937  RAPID CITY REGIONAL AIRPORT SD US      963.8     44.05   \n",
       "..           ...                                ...        ...       ...   \n",
       "383  COOP:396937  RAPID CITY REGIONAL AIRPORT SD US      963.8     44.05   \n",
       "384  COOP:396937  RAPID CITY REGIONAL AIRPORT SD US      963.8     44.05   \n",
       "385  COOP:396937  RAPID CITY REGIONAL AIRPORT SD US      963.8     44.05   \n",
       "386  COOP:396937  RAPID CITY REGIONAL AIRPORT SD US      963.8     44.05   \n",
       "387  COOP:396937  RAPID CITY REGIONAL AIRPORT SD US      963.8     44.05   \n",
       "\n",
       "     LONGITUDE            DATE  HPCP Measurement Flag Quality Flag  \n",
       "0   -103.06667  19720101 01:00  0.00                g               \n",
       "1   -103.06667  19720102 11:00  0.01                                \n",
       "2   -103.06667  19720109 20:00  0.01                                \n",
       "3   -103.06667  19720110 03:00  0.01                                \n",
       "4   -103.06667  19720112 01:00  0.03                                \n",
       "..         ...             ...   ...              ...          ...  \n",
       "383 -103.06667  19721229 22:00  0.01                                \n",
       "384 -103.06667  19721230 01:00  0.01                                \n",
       "385 -103.06667  19721230 19:00  0.01                                \n",
       "386 -103.06667  19721230 20:00  0.01                                \n",
       "387 -103.06667  19730101 01:00  0.00                g               \n",
       "\n",
       "[388 rows x 9 columns]>"
      ]
     },
     "execution_count": 4,
     "metadata": {},
     "output_type": "execute_result"
    }
   ],
   "source": [
    "df.head"
   ]
  },
  {
   "cell_type": "code",
   "execution_count": 5,
   "metadata": {},
   "outputs": [],
   "source": [
    "ndf=df['HPCP']"
   ]
  },
  {
   "cell_type": "code",
   "execution_count": 6,
   "metadata": {},
   "outputs": [
    {
     "data": {
      "text/html": [
       "<div>\n",
       "<style scoped>\n",
       "    .dataframe tbody tr th:only-of-type {\n",
       "        vertical-align: middle;\n",
       "    }\n",
       "\n",
       "    .dataframe tbody tr th {\n",
       "        vertical-align: top;\n",
       "    }\n",
       "\n",
       "    .dataframe thead th {\n",
       "        text-align: right;\n",
       "    }\n",
       "</style>\n",
       "<table border=\"1\" class=\"dataframe\">\n",
       "  <thead>\n",
       "    <tr style=\"text-align: right;\">\n",
       "      <th></th>\n",
       "      <th>STATION</th>\n",
       "      <th>STATION_NAME</th>\n",
       "      <th>ELEVATION</th>\n",
       "      <th>LATITUDE</th>\n",
       "      <th>LONGITUDE</th>\n",
       "      <th>DATE</th>\n",
       "      <th>HPCP</th>\n",
       "      <th>Measurement Flag</th>\n",
       "      <th>Quality Flag</th>\n",
       "    </tr>\n",
       "  </thead>\n",
       "  <tbody>\n",
       "    <tr>\n",
       "      <th>0</th>\n",
       "      <td>COOP:396937</td>\n",
       "      <td>RAPID CITY REGIONAL AIRPORT SD US</td>\n",
       "      <td>963.8</td>\n",
       "      <td>44.05</td>\n",
       "      <td>-103.06667</td>\n",
       "      <td>19720101 01:00</td>\n",
       "      <td>0.00</td>\n",
       "      <td>g</td>\n",
       "      <td></td>\n",
       "    </tr>\n",
       "    <tr>\n",
       "      <th>1</th>\n",
       "      <td>COOP:396937</td>\n",
       "      <td>RAPID CITY REGIONAL AIRPORT SD US</td>\n",
       "      <td>963.8</td>\n",
       "      <td>44.05</td>\n",
       "      <td>-103.06667</td>\n",
       "      <td>19720102 11:00</td>\n",
       "      <td>0.01</td>\n",
       "      <td></td>\n",
       "      <td></td>\n",
       "    </tr>\n",
       "    <tr>\n",
       "      <th>2</th>\n",
       "      <td>COOP:396937</td>\n",
       "      <td>RAPID CITY REGIONAL AIRPORT SD US</td>\n",
       "      <td>963.8</td>\n",
       "      <td>44.05</td>\n",
       "      <td>-103.06667</td>\n",
       "      <td>19720109 20:00</td>\n",
       "      <td>0.01</td>\n",
       "      <td></td>\n",
       "      <td></td>\n",
       "    </tr>\n",
       "    <tr>\n",
       "      <th>3</th>\n",
       "      <td>COOP:396937</td>\n",
       "      <td>RAPID CITY REGIONAL AIRPORT SD US</td>\n",
       "      <td>963.8</td>\n",
       "      <td>44.05</td>\n",
       "      <td>-103.06667</td>\n",
       "      <td>19720110 03:00</td>\n",
       "      <td>0.01</td>\n",
       "      <td></td>\n",
       "      <td></td>\n",
       "    </tr>\n",
       "    <tr>\n",
       "      <th>4</th>\n",
       "      <td>COOP:396937</td>\n",
       "      <td>RAPID CITY REGIONAL AIRPORT SD US</td>\n",
       "      <td>963.8</td>\n",
       "      <td>44.05</td>\n",
       "      <td>-103.06667</td>\n",
       "      <td>19720112 01:00</td>\n",
       "      <td>0.03</td>\n",
       "      <td></td>\n",
       "      <td></td>\n",
       "    </tr>\n",
       "    <tr>\n",
       "      <th>...</th>\n",
       "      <td>...</td>\n",
       "      <td>...</td>\n",
       "      <td>...</td>\n",
       "      <td>...</td>\n",
       "      <td>...</td>\n",
       "      <td>...</td>\n",
       "      <td>...</td>\n",
       "      <td>...</td>\n",
       "      <td>...</td>\n",
       "    </tr>\n",
       "    <tr>\n",
       "      <th>383</th>\n",
       "      <td>COOP:396937</td>\n",
       "      <td>RAPID CITY REGIONAL AIRPORT SD US</td>\n",
       "      <td>963.8</td>\n",
       "      <td>44.05</td>\n",
       "      <td>-103.06667</td>\n",
       "      <td>19721229 22:00</td>\n",
       "      <td>0.01</td>\n",
       "      <td></td>\n",
       "      <td></td>\n",
       "    </tr>\n",
       "    <tr>\n",
       "      <th>384</th>\n",
       "      <td>COOP:396937</td>\n",
       "      <td>RAPID CITY REGIONAL AIRPORT SD US</td>\n",
       "      <td>963.8</td>\n",
       "      <td>44.05</td>\n",
       "      <td>-103.06667</td>\n",
       "      <td>19721230 01:00</td>\n",
       "      <td>0.01</td>\n",
       "      <td></td>\n",
       "      <td></td>\n",
       "    </tr>\n",
       "    <tr>\n",
       "      <th>385</th>\n",
       "      <td>COOP:396937</td>\n",
       "      <td>RAPID CITY REGIONAL AIRPORT SD US</td>\n",
       "      <td>963.8</td>\n",
       "      <td>44.05</td>\n",
       "      <td>-103.06667</td>\n",
       "      <td>19721230 19:00</td>\n",
       "      <td>0.01</td>\n",
       "      <td></td>\n",
       "      <td></td>\n",
       "    </tr>\n",
       "    <tr>\n",
       "      <th>386</th>\n",
       "      <td>COOP:396937</td>\n",
       "      <td>RAPID CITY REGIONAL AIRPORT SD US</td>\n",
       "      <td>963.8</td>\n",
       "      <td>44.05</td>\n",
       "      <td>-103.06667</td>\n",
       "      <td>19721230 20:00</td>\n",
       "      <td>0.01</td>\n",
       "      <td></td>\n",
       "      <td></td>\n",
       "    </tr>\n",
       "    <tr>\n",
       "      <th>387</th>\n",
       "      <td>COOP:396937</td>\n",
       "      <td>RAPID CITY REGIONAL AIRPORT SD US</td>\n",
       "      <td>963.8</td>\n",
       "      <td>44.05</td>\n",
       "      <td>-103.06667</td>\n",
       "      <td>19730101 01:00</td>\n",
       "      <td>0.00</td>\n",
       "      <td>g</td>\n",
       "      <td></td>\n",
       "    </tr>\n",
       "  </tbody>\n",
       "</table>\n",
       "<p>388 rows × 9 columns</p>\n",
       "</div>"
      ],
      "text/plain": [
       "         STATION                       STATION_NAME  ELEVATION  LATITUDE  \\\n",
       "0    COOP:396937  RAPID CITY REGIONAL AIRPORT SD US      963.8     44.05   \n",
       "1    COOP:396937  RAPID CITY REGIONAL AIRPORT SD US      963.8     44.05   \n",
       "2    COOP:396937  RAPID CITY REGIONAL AIRPORT SD US      963.8     44.05   \n",
       "3    COOP:396937  RAPID CITY REGIONAL AIRPORT SD US      963.8     44.05   \n",
       "4    COOP:396937  RAPID CITY REGIONAL AIRPORT SD US      963.8     44.05   \n",
       "..           ...                                ...        ...       ...   \n",
       "383  COOP:396937  RAPID CITY REGIONAL AIRPORT SD US      963.8     44.05   \n",
       "384  COOP:396937  RAPID CITY REGIONAL AIRPORT SD US      963.8     44.05   \n",
       "385  COOP:396937  RAPID CITY REGIONAL AIRPORT SD US      963.8     44.05   \n",
       "386  COOP:396937  RAPID CITY REGIONAL AIRPORT SD US      963.8     44.05   \n",
       "387  COOP:396937  RAPID CITY REGIONAL AIRPORT SD US      963.8     44.05   \n",
       "\n",
       "     LONGITUDE            DATE  HPCP Measurement Flag Quality Flag  \n",
       "0   -103.06667  19720101 01:00  0.00                g               \n",
       "1   -103.06667  19720102 11:00  0.01                                \n",
       "2   -103.06667  19720109 20:00  0.01                                \n",
       "3   -103.06667  19720110 03:00  0.01                                \n",
       "4   -103.06667  19720112 01:00  0.03                                \n",
       "..         ...             ...   ...              ...          ...  \n",
       "383 -103.06667  19721229 22:00  0.01                                \n",
       "384 -103.06667  19721230 01:00  0.01                                \n",
       "385 -103.06667  19721230 19:00  0.01                                \n",
       "386 -103.06667  19721230 20:00  0.01                                \n",
       "387 -103.06667  19730101 01:00  0.00                g               \n",
       "\n",
       "[388 rows x 9 columns]"
      ]
     },
     "execution_count": 6,
     "metadata": {},
     "output_type": "execute_result"
    }
   ],
   "source": [
    "df"
   ]
  },
  {
   "cell_type": "code",
   "execution_count": 7,
   "metadata": {},
   "outputs": [
    {
     "name": "stdout",
     "output_type": "stream",
     "text": [
      "STATION\n",
      "STATION_NAME\n",
      "ELEVATION\n",
      "LATITUDE\n",
      "LONGITUDE\n",
      "DATE\n",
      "HPCP\n",
      "Measurement Flag\n",
      "Quality Flag\n"
     ]
    }
   ],
   "source": [
    "for col in df.columns: \n",
    "    print(col) "
   ]
  },
  {
   "cell_type": "code",
   "execution_count": 8,
   "metadata": {},
   "outputs": [
    {
     "data": {
      "text/plain": [
       "0      0.00\n",
       "1      0.01\n",
       "2      0.01\n",
       "3      0.01\n",
       "4      0.03\n",
       "       ... \n",
       "383    0.01\n",
       "384    0.01\n",
       "385    0.01\n",
       "386    0.01\n",
       "387    0.00\n",
       "Name: HPCP, Length: 388, dtype: float64"
      ]
     },
     "execution_count": 8,
     "metadata": {},
     "output_type": "execute_result"
    }
   ],
   "source": [
    "ndf"
   ]
  },
  {
   "cell_type": "code",
   "execution_count": 10,
   "metadata": {},
   "outputs": [],
   "source": [
    "ndf=df[['DATE','HPCP']]"
   ]
  },
  {
   "cell_type": "code",
   "execution_count": 11,
   "metadata": {},
   "outputs": [
    {
     "data": {
      "text/html": [
       "<div>\n",
       "<style scoped>\n",
       "    .dataframe tbody tr th:only-of-type {\n",
       "        vertical-align: middle;\n",
       "    }\n",
       "\n",
       "    .dataframe tbody tr th {\n",
       "        vertical-align: top;\n",
       "    }\n",
       "\n",
       "    .dataframe thead th {\n",
       "        text-align: right;\n",
       "    }\n",
       "</style>\n",
       "<table border=\"1\" class=\"dataframe\">\n",
       "  <thead>\n",
       "    <tr style=\"text-align: right;\">\n",
       "      <th></th>\n",
       "      <th>DATE</th>\n",
       "      <th>HPCP</th>\n",
       "    </tr>\n",
       "  </thead>\n",
       "  <tbody>\n",
       "    <tr>\n",
       "      <th>0</th>\n",
       "      <td>19720101 01:00</td>\n",
       "      <td>0.00</td>\n",
       "    </tr>\n",
       "    <tr>\n",
       "      <th>1</th>\n",
       "      <td>19720102 11:00</td>\n",
       "      <td>0.01</td>\n",
       "    </tr>\n",
       "    <tr>\n",
       "      <th>2</th>\n",
       "      <td>19720109 20:00</td>\n",
       "      <td>0.01</td>\n",
       "    </tr>\n",
       "    <tr>\n",
       "      <th>3</th>\n",
       "      <td>19720110 03:00</td>\n",
       "      <td>0.01</td>\n",
       "    </tr>\n",
       "    <tr>\n",
       "      <th>4</th>\n",
       "      <td>19720112 01:00</td>\n",
       "      <td>0.03</td>\n",
       "    </tr>\n",
       "    <tr>\n",
       "      <th>...</th>\n",
       "      <td>...</td>\n",
       "      <td>...</td>\n",
       "    </tr>\n",
       "    <tr>\n",
       "      <th>383</th>\n",
       "      <td>19721229 22:00</td>\n",
       "      <td>0.01</td>\n",
       "    </tr>\n",
       "    <tr>\n",
       "      <th>384</th>\n",
       "      <td>19721230 01:00</td>\n",
       "      <td>0.01</td>\n",
       "    </tr>\n",
       "    <tr>\n",
       "      <th>385</th>\n",
       "      <td>19721230 19:00</td>\n",
       "      <td>0.01</td>\n",
       "    </tr>\n",
       "    <tr>\n",
       "      <th>386</th>\n",
       "      <td>19721230 20:00</td>\n",
       "      <td>0.01</td>\n",
       "    </tr>\n",
       "    <tr>\n",
       "      <th>387</th>\n",
       "      <td>19730101 01:00</td>\n",
       "      <td>0.00</td>\n",
       "    </tr>\n",
       "  </tbody>\n",
       "</table>\n",
       "<p>388 rows × 2 columns</p>\n",
       "</div>"
      ],
      "text/plain": [
       "               DATE  HPCP\n",
       "0    19720101 01:00  0.00\n",
       "1    19720102 11:00  0.01\n",
       "2    19720109 20:00  0.01\n",
       "3    19720110 03:00  0.01\n",
       "4    19720112 01:00  0.03\n",
       "..              ...   ...\n",
       "383  19721229 22:00  0.01\n",
       "384  19721230 01:00  0.01\n",
       "385  19721230 19:00  0.01\n",
       "386  19721230 20:00  0.01\n",
       "387  19730101 01:00  0.00\n",
       "\n",
       "[388 rows x 2 columns]"
      ]
     },
     "execution_count": 11,
     "metadata": {},
     "output_type": "execute_result"
    }
   ],
   "source": [
    "ndf"
   ]
  },
  {
   "cell_type": "code",
   "execution_count": 12,
   "metadata": {},
   "outputs": [
    {
     "ename": "AttributeError",
     "evalue": "'DataFrame' object has no attribute 'types'",
     "output_type": "error",
     "traceback": [
      "\u001b[0;31m---------------------------------------------------------------------------\u001b[0m",
      "\u001b[0;31mAttributeError\u001b[0m                            Traceback (most recent call last)",
      "\u001b[0;32m<ipython-input-12-4c116287d53d>\u001b[0m in \u001b[0;36m<module>\u001b[0;34m\u001b[0m\n\u001b[0;32m----> 1\u001b[0;31m \u001b[0mndf\u001b[0m\u001b[0;34m.\u001b[0m\u001b[0mtypes\u001b[0m\u001b[0;34m\u001b[0m\u001b[0;34m\u001b[0m\u001b[0m\n\u001b[0m",
      "\u001b[0;32m/opt/tljh/user/lib/python3.7/site-packages/pandas/core/generic.py\u001b[0m in \u001b[0;36m__getattr__\u001b[0;34m(self, name)\u001b[0m\n\u001b[1;32m   5272\u001b[0m             \u001b[0;32mif\u001b[0m \u001b[0mself\u001b[0m\u001b[0;34m.\u001b[0m\u001b[0m_info_axis\u001b[0m\u001b[0;34m.\u001b[0m\u001b[0m_can_hold_identifiers_and_holds_name\u001b[0m\u001b[0;34m(\u001b[0m\u001b[0mname\u001b[0m\u001b[0;34m)\u001b[0m\u001b[0;34m:\u001b[0m\u001b[0;34m\u001b[0m\u001b[0;34m\u001b[0m\u001b[0m\n\u001b[1;32m   5273\u001b[0m                 \u001b[0;32mreturn\u001b[0m \u001b[0mself\u001b[0m\u001b[0;34m[\u001b[0m\u001b[0mname\u001b[0m\u001b[0;34m]\u001b[0m\u001b[0;34m\u001b[0m\u001b[0;34m\u001b[0m\u001b[0m\n\u001b[0;32m-> 5274\u001b[0;31m             \u001b[0;32mreturn\u001b[0m \u001b[0mobject\u001b[0m\u001b[0;34m.\u001b[0m\u001b[0m__getattribute__\u001b[0m\u001b[0;34m(\u001b[0m\u001b[0mself\u001b[0m\u001b[0;34m,\u001b[0m \u001b[0mname\u001b[0m\u001b[0;34m)\u001b[0m\u001b[0;34m\u001b[0m\u001b[0;34m\u001b[0m\u001b[0m\n\u001b[0m\u001b[1;32m   5275\u001b[0m \u001b[0;34m\u001b[0m\u001b[0m\n\u001b[1;32m   5276\u001b[0m     \u001b[0;32mdef\u001b[0m \u001b[0m__setattr__\u001b[0m\u001b[0;34m(\u001b[0m\u001b[0mself\u001b[0m\u001b[0;34m,\u001b[0m \u001b[0mname\u001b[0m\u001b[0;34m:\u001b[0m \u001b[0mstr\u001b[0m\u001b[0;34m,\u001b[0m \u001b[0mvalue\u001b[0m\u001b[0;34m)\u001b[0m \u001b[0;34m->\u001b[0m \u001b[0;32mNone\u001b[0m\u001b[0;34m:\u001b[0m\u001b[0;34m\u001b[0m\u001b[0;34m\u001b[0m\u001b[0m\n",
      "\u001b[0;31mAttributeError\u001b[0m: 'DataFrame' object has no attribute 'types'"
     ]
    }
   ],
   "source": [
    "ndf.types"
   ]
  },
  {
   "cell_type": "code",
   "execution_count": 13,
   "metadata": {},
   "outputs": [],
   "source": [
    "start_date = '06-01-1972'\n",
    "end_date = '06-15-1972'\n",
    "\n",
    "#next, set the mask -- we can then apply this to the df to filter it\n",
    "\n",
    "mask = (ndf['DATE'] > start_date) & (ndf['DATE'] <= end_date)\n",
    "\n",
    "df3 = ndf.loc[mask]"
   ]
  },
  {
   "cell_type": "code",
   "execution_count": 14,
   "metadata": {},
   "outputs": [
    {
     "data": {
      "text/html": [
       "<div>\n",
       "<style scoped>\n",
       "    .dataframe tbody tr th:only-of-type {\n",
       "        vertical-align: middle;\n",
       "    }\n",
       "\n",
       "    .dataframe tbody tr th {\n",
       "        vertical-align: top;\n",
       "    }\n",
       "\n",
       "    .dataframe thead th {\n",
       "        text-align: right;\n",
       "    }\n",
       "</style>\n",
       "<table border=\"1\" class=\"dataframe\">\n",
       "  <thead>\n",
       "    <tr style=\"text-align: right;\">\n",
       "      <th></th>\n",
       "      <th>DATE</th>\n",
       "      <th>HPCP</th>\n",
       "    </tr>\n",
       "  </thead>\n",
       "  <tbody>\n",
       "  </tbody>\n",
       "</table>\n",
       "</div>"
      ],
      "text/plain": [
       "Empty DataFrame\n",
       "Columns: [DATE, HPCP]\n",
       "Index: []"
      ]
     },
     "execution_count": 14,
     "metadata": {},
     "output_type": "execute_result"
    }
   ],
   "source": [
    "df3"
   ]
  },
  {
   "cell_type": "code",
   "execution_count": 15,
   "metadata": {},
   "outputs": [
    {
     "data": {
      "text/plain": [
       "DATE     object\n",
       "HPCP    float64\n",
       "dtype: object"
      ]
     },
     "execution_count": 15,
     "metadata": {},
     "output_type": "execute_result"
    }
   ],
   "source": [
    "ndf.dtypes"
   ]
  },
  {
   "cell_type": "code",
   "execution_count": 18,
   "metadata": {},
   "outputs": [
    {
     "name": "stderr",
     "output_type": "stream",
     "text": [
      "/opt/tljh/user/lib/python3.7/site-packages/ipykernel_launcher.py:1: SettingWithCopyWarning: \n",
      "A value is trying to be set on a copy of a slice from a DataFrame.\n",
      "Try using .loc[row_indexer,col_indexer] = value instead\n",
      "\n",
      "See the caveats in the documentation: https://pandas.pydata.org/pandas-docs/stable/user_guide/indexing.html#returning-a-view-versus-a-copy\n",
      "  \"\"\"Entry point for launching an IPython kernel.\n"
     ]
    }
   ],
   "source": [
    "ndf['DATE']= pandas.to_datetime(ndf['DATE']) "
   ]
  },
  {
   "cell_type": "code",
   "execution_count": 19,
   "metadata": {},
   "outputs": [
    {
     "data": {
      "text/plain": [
       "DATE    datetime64[ns]\n",
       "HPCP           float64\n",
       "dtype: object"
      ]
     },
     "execution_count": 19,
     "metadata": {},
     "output_type": "execute_result"
    }
   ],
   "source": [
    "ndf.dtypes"
   ]
  },
  {
   "cell_type": "code",
   "execution_count": 20,
   "metadata": {},
   "outputs": [],
   "source": [
    "start_date = '06-01-1972'\n",
    "end_date = '06-15-1972'\n",
    "\n",
    "#next, set the mask -- we can then apply this to the df to filter it\n",
    "\n",
    "mask = (ndf['DATE'] > start_date) & (ndf['DATE'] <= end_date)\n",
    "\n",
    "df3 = ndf.loc[mask]"
   ]
  },
  {
   "cell_type": "code",
   "execution_count": 21,
   "metadata": {},
   "outputs": [
    {
     "data": {
      "text/html": [
       "<div>\n",
       "<style scoped>\n",
       "    .dataframe tbody tr th:only-of-type {\n",
       "        vertical-align: middle;\n",
       "    }\n",
       "\n",
       "    .dataframe tbody tr th {\n",
       "        vertical-align: top;\n",
       "    }\n",
       "\n",
       "    .dataframe thead th {\n",
       "        text-align: right;\n",
       "    }\n",
       "</style>\n",
       "<table border=\"1\" class=\"dataframe\">\n",
       "  <thead>\n",
       "    <tr style=\"text-align: right;\">\n",
       "      <th></th>\n",
       "      <th>DATE</th>\n",
       "      <th>HPCP</th>\n",
       "    </tr>\n",
       "  </thead>\n",
       "  <tbody>\n",
       "    <tr>\n",
       "      <th>193</th>\n",
       "      <td>1972-06-01 01:00:00</td>\n",
       "      <td>0.00</td>\n",
       "    </tr>\n",
       "    <tr>\n",
       "      <th>194</th>\n",
       "      <td>1972-06-02 04:00:00</td>\n",
       "      <td>0.01</td>\n",
       "    </tr>\n",
       "    <tr>\n",
       "      <th>195</th>\n",
       "      <td>1972-06-03 03:00:00</td>\n",
       "      <td>0.05</td>\n",
       "    </tr>\n",
       "    <tr>\n",
       "      <th>196</th>\n",
       "      <td>1972-06-03 04:00:00</td>\n",
       "      <td>0.01</td>\n",
       "    </tr>\n",
       "    <tr>\n",
       "      <th>197</th>\n",
       "      <td>1972-06-09 22:00:00</td>\n",
       "      <td>0.61</td>\n",
       "    </tr>\n",
       "    <tr>\n",
       "      <th>198</th>\n",
       "      <td>1972-06-09 23:00:00</td>\n",
       "      <td>1.16</td>\n",
       "    </tr>\n",
       "    <tr>\n",
       "      <th>199</th>\n",
       "      <td>1972-06-10 00:00:00</td>\n",
       "      <td>0.31</td>\n",
       "    </tr>\n",
       "    <tr>\n",
       "      <th>200</th>\n",
       "      <td>1972-06-10 01:00:00</td>\n",
       "      <td>0.13</td>\n",
       "    </tr>\n",
       "    <tr>\n",
       "      <th>201</th>\n",
       "      <td>1972-06-10 02:00:00</td>\n",
       "      <td>0.09</td>\n",
       "    </tr>\n",
       "    <tr>\n",
       "      <th>202</th>\n",
       "      <td>1972-06-10 03:00:00</td>\n",
       "      <td>0.02</td>\n",
       "    </tr>\n",
       "    <tr>\n",
       "      <th>203</th>\n",
       "      <td>1972-06-14 14:00:00</td>\n",
       "      <td>0.03</td>\n",
       "    </tr>\n",
       "  </tbody>\n",
       "</table>\n",
       "</div>"
      ],
      "text/plain": [
       "                   DATE  HPCP\n",
       "193 1972-06-01 01:00:00  0.00\n",
       "194 1972-06-02 04:00:00  0.01\n",
       "195 1972-06-03 03:00:00  0.05\n",
       "196 1972-06-03 04:00:00  0.01\n",
       "197 1972-06-09 22:00:00  0.61\n",
       "198 1972-06-09 23:00:00  1.16\n",
       "199 1972-06-10 00:00:00  0.31\n",
       "200 1972-06-10 01:00:00  0.13\n",
       "201 1972-06-10 02:00:00  0.09\n",
       "202 1972-06-10 03:00:00  0.02\n",
       "203 1972-06-14 14:00:00  0.03"
      ]
     },
     "execution_count": 21,
     "metadata": {},
     "output_type": "execute_result"
    }
   ],
   "source": [
    "df3"
   ]
  },
  {
   "cell_type": "code",
   "execution_count": null,
   "metadata": {},
   "outputs": [],
   "source": []
  }
 ],
 "metadata": {
  "kernelspec": {
   "display_name": "Python 3",
   "language": "python",
   "name": "python3"
  },
  "language_info": {
   "codemirror_mode": {
    "name": "ipython",
    "version": 3
   },
   "file_extension": ".py",
   "mimetype": "text/x-python",
   "name": "python",
   "nbconvert_exporter": "python",
   "pygments_lexer": "ipython3",
   "version": "3.7.3"
  }
 },
 "nbformat": 4,
 "nbformat_minor": 4
}
